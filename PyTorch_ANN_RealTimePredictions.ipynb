{
 "cells": [
  {
   "cell_type": "code",
   "execution_count": 472,
   "metadata": {},
   "outputs": [],
   "source": [
    "import torch\n",
    "from torch import nn\n",
    "import os\n",
    "import glob as glob\n",
    "from torch.utils.data import DataLoader, Dataset, Subset\n",
    "import torch.optim as optim\n",
    "import matplotlib.pyplot as plt\n",
    "import numpy as np\n",
    "import pandas as pd\n",
    "import random\n",
    "import time\n",
    "from tqdm import tqdm\n",
    "from multiprocessing import Process\n",
    "from IPython.display import clear_output, display\n",
    "from time import sleep"
   ]
  },
  {
   "cell_type": "code",
   "execution_count": 505,
   "metadata": {},
   "outputs": [],
   "source": [
    "model_file = 'data_file.csv'\n",
    "coder_file = 'coder.txt'"
   ]
  },
  {
   "cell_type": "code",
   "execution_count": 506,
   "metadata": {},
   "outputs": [],
   "source": [
    "class DataLoader:\n",
    "    def __init__(self, model_file, coder_file):\n",
    "        self.model_file = model_file\n",
    "        with open(coder_file, 'r') as f:\n",
    "            self.labels = f.readlines()\n",
    "        for l in range(len(self.labels)):\n",
    "            self.labels[l] = self.labels[l][:-1]\n",
    "        self.soln = file.split('/')[6]\n",
    "        self.data = {}\n",
    "\n",
    "    def data_process(self):\n",
    "        df = pd.read_csv(self.model_file)\n",
    "        self.data = [] # some magic\n",
    "        self.len = len(self.data)\n"
   ]
  },
  {
   "cell_type": "code",
   "execution_count": 507,
   "metadata": {},
   "outputs": [],
   "source": [
    "dataset = DataLoader(model_file, coder_file)"
   ]
  },
  {
   "cell_type": "code",
   "execution_count": 508,
   "metadata": {},
   "outputs": [],
   "source": [
    "dataset.data_process()"
   ]
  },
  {
   "cell_type": "code",
   "execution_count": 509,
   "metadata": {},
   "outputs": [],
   "source": [
    "feature_list = []"
   ]
  },
  {
   "cell_type": "code",
   "execution_count": 510,
   "metadata": {},
   "outputs": [],
   "source": [
    "class NeuralNetwork(nn.Module):\n",
    "    def __init__(self):\n",
    "        super(NeuralNetwork, self).__init__()\n",
    "        self.flatten = nn.Flatten()\n",
    "        self.linear_relu_stack = nn.Sequential(\n",
    "            nn.Linear(35, 1024),\n",
    "            nn.ReLU(),\n",
    "            nn.Linear(1024, 4096),\n",
    "            nn.ReLU(),\n",
    "            nn.Linear(4096, 1024),\n",
    "            nn.ReLU(),\n",
    "            nn.Linear(1024, 21), #41\n",
    "            #nn.Softmax(dim=1))\n",
    "            nn.Sigmoid())\n",
    "        \n",
    "    def forward(self, x):\n",
    "        x = self.flatten(x)\n",
    "        logits = self.linear_relu_stack(x)\n",
    "        return logits"
   ]
  },
  {
   "cell_type": "code",
   "execution_count": 511,
   "metadata": {},
   "outputs": [
    {
     "data": {
      "text/plain": [
       "NeuralNetwork(\n",
       "  (flatten): Flatten(start_dim=1, end_dim=-1)\n",
       "  (linear_relu_stack): Sequential(\n",
       "    (0): Linear(in_features=35, out_features=1024, bias=True)\n",
       "    (1): ReLU()\n",
       "    (2): Linear(in_features=1024, out_features=4096, bias=True)\n",
       "    (3): ReLU()\n",
       "    (4): Linear(in_features=4096, out_features=1024, bias=True)\n",
       "    (5): ReLU()\n",
       "    (6): Linear(in_features=1024, out_features=21, bias=True)\n",
       "    (7): Sigmoid()\n",
       "  )\n",
       ")"
      ]
     },
     "execution_count": 511,
     "metadata": {},
     "output_type": "execute_result"
    }
   ],
   "source": [
    "path = './model_MkIV.pth'\n",
    "model = NeuralNetwork()\n",
    "model.load_state_dict(torch.load(path))\n",
    "model.eval()"
   ]
  },
  {
   "cell_type": "code",
   "execution_count": 512,
   "metadata": {},
   "outputs": [
    {
     "name": "stdout",
     "output_type": "stream",
     "text": [
      "Prediction: Stable, Solution, Hot Shot Confidence Check\n"
     ]
    }
   ],
   "source": [
    "i = np.random.randint(dataset.len)\n",
    "\n",
    "data_string = []\n",
    "for feature in feature_list:\n",
    "    for j in range(5):\n",
    "        data_string.append(dataset.data[feature][j][i])\n",
    "\n",
    "with torch.no_grad():\n",
    "\n",
    "    outputs = model(torch.from_numpy(np.array([data_string])).float())\n",
    "\n",
    "    lo = list(outputs[0])\n",
    "    st = dataset.labels[lo.index(max(lo[0:2]))]\n",
    "    lo = lo[2:]\n",
    "    bs = dataset.labels[lo.index(max(lo[0:2]))+2]\n",
    "    lo = lo[2:]\n",
    "    p_soln = dataset.labels[lo.index(max(lo))+4]\n",
    "    \n",
    "    print(f'Prediction: {st}, {bs}, {p_soln}')"
   ]
  },
  {
   "cell_type": "code",
   "execution_count": 514,
   "metadata": {},
   "outputs": [
    {
     "data": {
      "image/png": "[encoded data removed]",
      "text/plain": [
       "<Figure size 432x288 with 1 Axes>"
      ]
     },
     "metadata": {
      "needs_background": "light"
     },
     "output_type": "display_data"
    },
    {
     "ename": "KeyboardInterrupt",
     "evalue": "",
     "output_type": "error",
     "traceback": [
      "\u001b[0;31m---------------------------------------------------------------------------\u001b[0m",
      "\u001b[0;31mKeyboardInterrupt\u001b[0m                         Traceback (most recent call last)",
      "\u001b[0;32m<ipython-input-514-1e2bf990e364>\u001b[0m in \u001b[0;36m<module>\u001b[0;34m\u001b[0m\n\u001b[1;32m     56\u001b[0m         \u001b[0mplt\u001b[0m\u001b[0;34m.\u001b[0m\u001b[0mshow\u001b[0m\u001b[0;34m(\u001b[0m\u001b[0;34m)\u001b[0m\u001b[0;34m\u001b[0m\u001b[0;34m\u001b[0m\u001b[0m\n\u001b[1;32m     57\u001b[0m \u001b[0;34m\u001b[0m\u001b[0m\n\u001b[0;32m---> 58\u001b[0;31m         \u001b[0msleep\u001b[0m\u001b[0;34m(\u001b[0m\u001b[0;36m1\u001b[0m\u001b[0;34m)\u001b[0m\u001b[0;34m\u001b[0m\u001b[0;34m\u001b[0m\u001b[0m\n\u001b[0m",
      "\u001b[0;31mKeyboardInterrupt\u001b[0m: "
     ]
    }
   ],
   "source": [
    "%matplotlib inline\n",
    "t = []\n",
    "color = []\n",
    "bpct_l = []\n",
    "soln_counter = 0\n",
    "alarm = False\n",
    "for i in range(dataset.len):\n",
    "    clear_output(wait=True)\n",
    "    t.append(i)\n",
    "\n",
    "    data_string = []\n",
    "    for feature in feature_list:\n",
    "        for j in range(5):\n",
    "            data_string.append(dataset.data[feature][j][i])\n",
    "\n",
    "    with torch.no_grad():\n",
    "\n",
    "        outputs = model(torch.from_numpy(np.array([data_string])).float())\n",
    "\n",
    "        lo = list(outputs[0])\n",
    "        st = dataset.labels[lo.index(max(lo[0:2]))]\n",
    "        lo = lo[2:]\n",
    "        bs = dataset.labels[lo.index(max(lo[0:2]))+2]\n",
    "        lo = lo[2:]\n",
    "        p_soln = dataset.labels[lo.index(max(lo))+4]\n",
    "        \n",
    "        if p_soln == 'Background':\n",
    "            color.append('green')\n",
    "            soln_counter = 0\n",
    "            alarm = False\n",
    "        else:\n",
    "            soln_counter += 1\n",
    "            if soln_counter == 10:\n",
    "                color.append('red')\n",
    "                alarm = True\n",
    "                alarm_time = i\n",
    "            elif soln_counter > 10:\n",
    "                    color.append('red')\n",
    "            else:\n",
    "                color.append('green')\n",
    "        bpct_l.append(dataset.data['bpct_l'][1][i]*100)\n",
    "        \n",
    "        if i < 60:\n",
    "            plt.scatter(t[:i+1], bpct_l[:i+1],label =f'Prediction: {p_soln}',c=color)\n",
    "            plt.plot(t[:i+1], bpct_l[:i+1],c=color[-1])\n",
    "        else:\n",
    "            plt.scatter(t[i-60:i+1], bpct_l[i-60:i+1],label =f'Prediction: {p_soln}',c=color[i-60:i+60])\n",
    "            plt.plot(t[i-60:i+1], bpct_l[i-60:i+1],c=color[-1])\n",
    "        if alarm and alarm_time > (i+1-60):\n",
    "            plt.axvline(alarm_time,color='red')\n",
    "            \n",
    "        plt.xlabel('Time (s)')\n",
    "        plt.ylabel('Bio Percent Large')\n",
    "        plt.title('Real Time Data')\n",
    "        plt.legend()\n",
    "        plt.show()\n",
    "\n",
    "        sleep(1)"
   ]
  },
  {
   "cell_type": "markdown",
   "metadata": {},
   "source": [
    "# "
   ]
  }
 ],
 "metadata": {
  "kernelspec": {
   "display_name": "Python 3 (ipykernel)",
   "language": "python",
   "name": "python3"
  },
  "language_info": {
   "codemirror_mode": {
    "name": "ipython",
    "version": 3
   },
   "file_extension": ".py",
   "mimetype": "text/x-python",
   "name": "python",
   "nbconvert_exporter": "python",
   "pygments_lexer": "ipython3",
   "version": "3.9.7"
  }
 },
 "nbformat": 4,
 "nbformat_minor": 4
}
