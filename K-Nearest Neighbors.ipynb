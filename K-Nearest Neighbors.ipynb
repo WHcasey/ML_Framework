{
 "cells": [
  {
   "cell_type": "code",
   "execution_count": 23,
   "metadata": {},
   "outputs": [],
   "source": [
    "import numpy as np\n",
    "import pandas as pd\n",
    "import matplotlib.pyplot as plt\n",
    "from sklearn.model_selection import train_test_split, GridSearchCV\n",
    "from sklearn.ensemble import RandomForestClassifier\n",
    "from sklearn.preprocessing import StandardScaler, LabelEncoder\n",
    "from sklearn.metrics import confusion_matrix, accuracy_score, classification_report, ConfusionMatrixDisplay\n",
    "import pickle\n",
    "from sklearn.neighbors import KNeighborsClassifier"
   ]
  },
  {
   "cell_type": "code",
   "execution_count": 2,
   "metadata": {},
   "outputs": [],
   "source": [
    "file_path = 'Data/data.txt'"
   ]
  },
  {
   "cell_type": "markdown",
   "metadata": {},
   "source": [
    "# K Nearest Neighbors Confusion Matrix"
   ]
  },
  {
   "cell_type": "code",
   "execution_count": 24,
   "metadata": {},
   "outputs": [],
   "source": [
    "features = []\n",
    "st_x = StandardScaler()"
   ]
  },
  {
   "cell_type": "code",
   "execution_count": 35,
   "metadata": {},
   "outputs": [],
   "source": [
    "def KNN(file_path):\n",
    "    data= pd.read_csv(file_path)\n",
    "    x=data[features]\n",
    "    y=data.Solution\n",
    "    x_train, x_test, y_train, y_test = train_test_split(x, y, test_size = 0.35, random_state=10)\n",
    "    x_train = st_x.fit_transform(x_train)\n",
    "    x_test = st_x.transform(x_test)\n",
    "    classifier = KNeighborsClassifier(n_neighbors = 5, metric = 'minkowski', p=2)\n",
    "    classifier.fit(x_train, y_train)\n",
    "    predict_y = classifier.predict(x_test)\n",
    "    cm = confusion_matrix(y_test, predict_y)\n",
    "    print(cm)\n",
    "    print('Accuracy Score :',accuracy_score(y_test,predict_y))\n",
    "    print('Report :')\n",
    "    print(classification_report(y_test, predict_y))\n",
    "    pcts = []\n",
    "    for i in range(len(cm)):\n",
    "        total = sum(cm[i])\n",
    "        pcts.append([])\n",
    "        for j in range(len(cm[i])):\n",
    "            val = cm[i][j]*100/total\n",
    "            pcts[i].append(round(val,2))\n",
    "    print(pcts)\n",
    "    #save_file4 = 'Models/BEST/New Calibration Solutions KNN.sav'\n",
    "    #pickle.dump(classifier, open(save_file4,'wb'))"
   ]
  },
  {
   "cell_type": "code",
   "execution_count": 40,
   "metadata": {},
   "outputs": [
    {
     "name": "stdout",
     "output_type": "stream",
     "text": [
      "[[14026    94   172   718    79]\n",
      " [   60   455     0     0     0]\n",
      " [  212     0  1897     0     2]\n",
      " [  724     0     0  3561     0]\n",
      " [   26     0     0     0   211]]\n",
      "Accuracy Score : 0.9061474119710392\n",
      "Report :\n",
      "              precision    recall  f1-score   support\n",
      "\n",
      "  Background       0.93      0.93      0.93     15089\n",
      "         Cal       0.83      0.88      0.86       515\n",
      " Conf. Check       0.92      0.90      0.91      2111\n",
      "      Wet_BG       0.83      0.83      0.83      4285\n",
      "          YG       0.72      0.89      0.80       237\n",
      "\n",
      "    accuracy                           0.91     22237\n",
      "   macro avg       0.85      0.89      0.86     22237\n",
      "weighted avg       0.91      0.91      0.91     22237\n",
      "\n",
      "[[92.96, 0.62, 1.14, 4.76, 0.52], [11.65, 88.35, 0.0, 0.0, 0.0], [10.04, 0.0, 89.86, 0.0, 0.09], [16.9, 0.0, 0.0, 83.1, 0.0], [10.97, 0.0, 0.0, 0.0, 89.03]]\n"
     ]
    }
   ],
   "source": [
    "KNN('data_file.txt')"
   ]
  },
  {
   "cell_type": "code",
   "execution_count": null,
   "metadata": {},
   "outputs": [],
   "source": [
    "disp = ConfusionMatrixDisplay(confusion_matrix=cm, display_labels=classifier.classes_)\n",
    "disp.plot()"
   ]
  }
 ],
 "metadata": {
  "kernelspec": {
   "display_name": "Python 3 (ipykernel)",
   "language": "python",
   "name": "python3"
  },
  "language_info": {
   "codemirror_mode": {
    "name": "ipython",
    "version": 3
   },
   "file_extension": ".py",
   "mimetype": "text/x-python",
   "name": "python",
   "nbconvert_exporter": "python",
   "pygments_lexer": "ipython3",
   "version": "3.9.7"
  }
 },
 "nbformat": 4,
 "nbformat_minor": 4
}
